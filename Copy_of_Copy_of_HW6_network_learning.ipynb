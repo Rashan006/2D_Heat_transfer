{
  "cells": [
    {
      "cell_type": "markdown",
      "metadata": {
        "id": "view-in-github",
        "colab_type": "text"
      },
      "source": [
        "<a href=\"https://colab.research.google.com/github/Rashan006/2D_Heat_transfer/blob/master/Copy_of_Copy_of_HW6_network_learning.ipynb\" target=\"_parent\"><img src=\"https://colab.research.google.com/assets/colab-badge.svg\" alt=\"Open In Colab\"/></a>"
      ]
    },
    {
      "cell_type": "markdown",
      "metadata": {
        "id": "nW8il4Qwu5L3"
      },
      "source": [
        "# <h1><center> HW -- AMATH 342 -- Supervised learning</center></h1>\n",
        "\n",
        "Working together is encouraged.  Please do not refer to prior years' solutions.\n",
        "\n",
        "Turn in a write up with your solutions including discussion, plots, and code. Full points require that this is legible, understandably explained, and reasonably organized. \n",
        "\n",
        "If you have difficulty with the assignment, please $\\textbf{come to office hours and get help!}$ "
      ]
    },
    {
      "cell_type": "markdown",
      "metadata": {
        "id": "Z6bLTBCKu5L_"
      },
      "source": [
        "$\\textbf{Problem 1: Building a multilayer Neural Net}$\n",
        "\n",
        "![image.png](attachment:ee9c858c-6772-49e4-b1f1-af222b04f04b.png)\n",
        "\n",
        "Create a two layer neural network which can solve the XOR problem. To receive full credit, you need do the following\n",
        "* Write down the weights, theta's and the g's for each of your 3 perceptrons. (A total of 9 numbers and 3 functions, although it would be easiest to just reuse the same g)\n",
        "* Just for the four points (0,0), (1,0), (1, 1), (0,1), show the computations that show that your network really outputs [0, 1, 0, 1] for the four data points. That is, write the exact computations to show how the initial x1 and x2's get transformed to a binary label.\n",
        "\n",
        "<br><br><br><br><br><br>\n",
        "     A multilayer neural network is a type of neural network that has more than one layer of perceptrons. Each layer of perceptrons is connected to the previous layer, and the output of the previous layer is used as the input to the next layer.\n",
        "   To solve the XOR problem, we can use a two-layer neural network. The first layer of the neural network consists of two perceptrons, and the second layer consists of one perceptron. The first layer takes in two input values, x1 and x2, and computes two intermediate values, h1 and h2. The second layer takes in the intermediate values h1 and h2 and computes the final output value, y.g is the step function, and w_ij represents the weight from neuron j in the previous layer to neuron I in the current layer. Theta_i represents the bias term for neuron i.\n",
        "W_11 = -10, w_12 = 20, theta_1 = -30\n",
        "W_21 = 20, w_22 = -20, theta_2 = 10\n",
        "W_31 = 20, w_32 = 20, theta_3 = -30\n",
        "We can use the step function g(z) = { 1 if z >= 0, 0 otherwise } for all neurons.\n",
        "\n",
        "For (0, 0):\n",
        "Z_1 = w_11x_1 + w_12x_2 + theta_1 = 0 >= 0, so a_1 = 1\n",
        "Z_2 = w_21x_1 + w_22x_2 + theta_2 = -10 < 0, so a_2 = 0\n",
        "Z_3 = w_31a_1 + w_32a_\n",
        "\n",
        "W1 = [[20, 20], [-20, -20]]\n",
        "W2 = [[20], [20]]\n",
        "Bias vectors:\n",
        "\n",
        "B1 = [-10, 30]\n",
        "B2 = [-30]\n",
        "Activation function:\n",
        "\n",
        "G(z) = 1 / (1 + exp(-z))\n",
        "\n",
        "For (0, 0):\n",
        "\n",
        "First layer:\n",
        "Z1 = (0 * 20) + (0 * -20) – 10 = -10\n",
        "Z2 = (0 * 20) + (0 * -20) + 30 = 30\n",
        "A1 = g(z1) = 0.004\n",
        "A2 = g(z2) = 1.000\n",
        "Second layer:\n",
        "Z3 = (0.004 * 20) + (1.000 * 20) – 30 = -9.992\n",
        "A3 = g(z3) = 0.000\n",
        "For (1, 0):\n",
        "\n",
        "First layer:\n",
        "Z1 = (1 * 20) + (0 * -20) – 10 = 10\n",
        "Z2 = (1 * 20) + (0 * -20) + 30 = 50\n",
        "A1 = g(z1) = 0.999\n",
        "A2 = g(z2) = 1.000\n",
        "Second layer:\n",
        "Z3 = (0.999 * 20) + (1.000 * 20) – 30 = 9.998\n",
        "A3 = g(z3) = 1.000\n",
        "For (1, 1):\n",
        "\n",
        "First layer:\n",
        "Z1 = (1 * 20) + (1 * -20) – 10 = -10\n",
        "Z2 = (1 * 20) + (1 * -20) + 30 = 30\n",
        "A1 = g(z1) = 0.004\n",
        "A2 = g(z2) = 1.000\n",
        "Second layer:\n",
        "Z3 = (0.004 * 20) + (1.000 * 20) – 30 = -9.992\n",
        "A3 = g(z3) = 0.000\n",
        "For (0, 1):\n",
        "\n",
        "First layer:\n",
        "Z1 = (0 * 20) + (1 * -20) – 10 = -30\n",
        "Z2 = (0 * 20) + (1 * -20) + 30 = 10\n",
        "A1 = g(z1) = 0.000\n",
        "A2 = g(z2) = 0.999\n",
        "Second layer:\n",
        "Z3 = (0.000 * 20) + (0.999 * 20) – 30 = -9.992\n",
        "A3 = g(z3) = 0.000\n"
      ]
    },
    {
      "cell_type": "markdown",
      "source": [],
      "metadata": {
        "id": "HXyKjuVKfGz-"
      }
    },
    {
      "cell_type": "markdown",
      "metadata": {
        "tags": [],
        "id": "7Ffrorsbu5MA"
      },
      "source": [
        "\n",
        "\n",
        "\n",
        "\n",
        "\n",
        "\n",
        "$\\textbf{Problem 2: Training a Perceptron}$ "
      ]
    },
    {
      "cell_type": "markdown",
      "metadata": {
        "tags": [],
        "id": "L5eubY7Bu5MB"
      },
      "source": [
        "Train a perceptron using $\\textit{the perceptron training rule}$ to classify the following data. \n",
        "\n",
        "The data measure septal length (column 1) and petal length (column 2) of two types of flowers. These data are stored in the variable '$\\textbf{X}$'. Your model should take $\\textit{septal length}$ and $\\textit{petal length}$ as inputs. Your model should output 1 if the flower is a setosa or -1 if\n",
        "it is a versicolor (two types of Iris flower). These data are in $\\textbf{y}$. Both have been loaded in the cell below for you. There are 50 samples of each flower (so $\\textbf{X}$ is 100 $\\times$ 2). Here are some steps to help guide you.\n",
        "\n",
        "\n",
        "A) Plot the data. Color code the data so that the  setosa flowers are one color and versicolor flowers are a different color. Can a perceptron be used for these data? Why? \n",
        "\n",
        "B) Write a loop which implements the perceptron learning rule. <br>\n",
        "$\\hspace{4mm}$    a) Initialize your weights and bias to random values (say -1 $\\leq$ w $\\leq$ 1). <br>\n",
        "$\\hspace{4mm}$    b) Iterate through all the data points in $\\textbf{X}$ and update the weights and bias for EACH data point. \n",
        "\n",
        "C) What is the number of misclassifications (or error rate) of your perceptron after 10 steps? 30? \n",
        "\n",
        "D) Sometimes, we will train over many \"epochs.\" That is, we loop over all the data several times and just continue using gradient descent. What is the error rate after training over two epochs? \n",
        "\n",
        "E) How does this error rate change as a function of learning rate? Plot the error as a function of the learning rate for 3-5 different learning rates (hint: try logspace to choose learning rates between 0 and 1). Train over at least one epoch on the data. \n",
        "\n",
        "\n",
        "\n",
        "<br><br><br><br>\n",
        "HINTS: <br><br>\n",
        "-Use a learning rate between 0 and 1. <br> <br>\n",
        "-For your perceptron, you can use the following for updating on each step (this is similar to the learning rule we saw in class):\n",
        "\n",
        "$\\Delta w = \\eta(t_{i}-o_{i}) * x_{i}$ for the weights and <br>\n",
        "$\\Delta \\theta = \\eta(t_i-o_i)$ for the bias, where $o_{i}$ is your output, $t_{i}$ is your target output, $\\eta$ is your learning rate, and $x_{i}$ is your input. <br><br><br>\n",
        "-Remember to update both weights: $w_1$ and $w_2$ in your loop.  "
      ]
    },
    {
      "cell_type": "code",
      "execution_count": null,
      "metadata": {
        "id": "2uECIcGdu5ME",
        "colab": {
          "base_uri": "https://localhost:8080/",
          "height": 497
        },
        "outputId": "55a2990c-f08e-4df6-af12-e2b59f2dc4da"
      },
      "outputs": [
        {
          "output_type": "display_data",
          "data": {
            "text/plain": [
              "<Figure size 432x288 with 1 Axes>"
            ],
            "image/png": "[encoded data removed]"
          },
          "metadata": {
            "needs_background": "light"
          }
        },
        {
          "output_type": "error",
          "ename": "IndexError",
          "evalue": "ignored",
          "traceback": [
            "\u001b[0;31m---------------------------------------------------------------------------\u001b[0m",
            "\u001b[0;31mIndexError\u001b[0m                                Traceback (most recent call last)",
            "\u001b[0;32m<ipython-input-5-a193854af335>\u001b[0m in \u001b[0;36m<module>\u001b[0;34m\u001b[0m\n\u001b[1;32m     46\u001b[0m     \u001b[0merrors\u001b[0m\u001b[0;34m.\u001b[0m\u001b[0mappend\u001b[0m\u001b[0;34m(\u001b[0m\u001b[0mmisclassifications\u001b[0m\u001b[0;34m)\u001b[0m\u001b[0;34m\u001b[0m\u001b[0;34m\u001b[0m\u001b[0m\n\u001b[1;32m     47\u001b[0m \u001b[0;34m\u001b[0m\u001b[0m\n\u001b[0;32m---> 48\u001b[0;31m \u001b[0mprint\u001b[0m\u001b[0;34m(\u001b[0m\u001b[0;34m\"Number of misclassifications after 10 steps: \"\u001b[0m\u001b[0;34m,\u001b[0m \u001b[0merrors\u001b[0m\u001b[0;34m[\u001b[0m\u001b[0;36m9\u001b[0m\u001b[0;34m]\u001b[0m\u001b[0;34m)\u001b[0m\u001b[0;34m\u001b[0m\u001b[0;34m\u001b[0m\u001b[0m\n\u001b[0m\u001b[1;32m     49\u001b[0m \u001b[0mprint\u001b[0m\u001b[0;34m(\u001b[0m\u001b[0;34m\"Number of misclassifications after 30 steps: \"\u001b[0m\u001b[0;34m,\u001b[0m \u001b[0merrors\u001b[0m\u001b[0;34m[\u001b[0m\u001b[0;36m29\u001b[0m\u001b[0;34m]\u001b[0m\u001b[0;34m)\u001b[0m\u001b[0;34m\u001b[0m\u001b[0;34m\u001b[0m\u001b[0m\n\u001b[1;32m     50\u001b[0m \u001b[0mprint\u001b[0m\u001b[0;34m(\u001b[0m\u001b[0;34m\"Number of misclassifications after two epochs: \"\u001b[0m\u001b[0;34m,\u001b[0m \u001b[0merrors\u001b[0m\u001b[0;34m[\u001b[0m\u001b[0;34m-\u001b[0m\u001b[0;36m1\u001b[0m\u001b[0;34m]\u001b[0m\u001b[0;34m)\u001b[0m\u001b[0;34m\u001b[0m\u001b[0;34m\u001b[0m\u001b[0m\n",
            "\u001b[0;31mIndexError\u001b[0m: list index out of range"
          ]
        }
      ],
      "source": [
        "import pandas as pd\n",
        "import numpy as np\n",
        "import matplotlib.pyplot as plt\n",
        "import pandas as pd\n",
        "\n",
        "# Load data \n",
        "df = pd.read_csv('https://archive.ics.uci.edu/ml/machine-learning-databases/iris/iris.data', header=None)\n",
        "y = df.iloc[0:100, 4].values\n",
        "y = np.where(y == 'Iris-setosa', 1, -1)\n",
        "\n",
        "# Sepal length and petal length\n",
        "X = df.iloc[0:100, [0,2]].values\n",
        "\n",
        "# Plot data\n",
        "plt.scatter(X[:50, 0], X[:50, 1], color='red', marker='o', label='setosa')\n",
        "plt.scatter(X[50:, 0], X[50:, 1], color='blue', marker='x', label='versicolor')\n",
        "plt.xlabel('sepal length')\n",
        "plt.ylabel('petal length')\n",
        "plt.legend(loc='upper left')\n",
        "plt.show()\n",
        "\n",
        "# Perceptron learning rule\n",
        "np.random.seed(5)\n",
        "w = np.random.uniform(low=-1, high=1, size=2)\n",
        "b = np.random.uniform(low=-1, high=1)\n",
        "\n",
        "lr = 0.01\n",
        "errors = []\n",
        "\n",
        "for epoch in range(2):\n",
        "    misclassifications = 0\n",
        "    for i in range(X.shape[0]):\n",
        "        x = X[i, :]\n",
        "        target = y[i]\n",
        "\n",
        "\n",
        "        output = np.sign(np.dot(x, w) + b)\n",
        "\n",
        "        if output != target:\n",
        "            misclassifications += 1\n",
        "            update_w = lr * (target - output) * x\n",
        "            update_b = lr * (target - output)\n",
        "            w += update_w\n",
        "            b += update_b\n",
        "\n",
        "    errors.append(misclassifications)\n",
        "\n",
        "print(\"Number of misclassifications after 10 steps: \", errors[9])\n",
        "print(\"Number of misclassifications after 30 steps: \", errors[29])\n",
        "print(\"Number of misclassifications after two epochs: \", errors[-1])\n",
        "\n",
        "# Plot error rate vs learning rate\n",
        "learning_rates = np.logspace(-3, 0, num=5)\n",
        "error_rates = []\n",
        "\n",
        "for lr in learning_rates:\n",
        "    w = np.random.uniform(low=-1, high=1, size=2)\n",
        "    b = np.random.uniform(low=-1, high=1)\n",
        "    errors = []\n",
        "\n",
        "    for epoch in range(1):\n",
        "        misclassifications = 0\n",
        "        for i in range(X.shape[0]):\n",
        "            x = X[i, :]\n",
        "            target = y[i]\n",
        "\n",
        "            output = np.sign(np.dot(x, w) + b)\n",
        "\n",
        "            if output != target:\n",
        "                misclassifications += 1\n",
        "                update_w = lr * (target - output) * x\n",
        "                update_b = lr * (target - output)\n",
        "                w += update_w\n",
        "                b += update_b\n",
        "\n",
        "        errors.append(misclassifications)\n",
        "\n",
        "    error_rates.append(errors[0])\n",
        "\n",
        "plt.plot(learning_rates, error_rates, marker='o')\n",
        "plt.xscale('log')\n",
        "plt.xlabel('Learning rate')\n",
        "plt.ylabel('Error rate')\n",
        "plt.show()\n",
        "\n",
        "\n",
        "#%% Load data \n",
        "df = pd.read_csv('https://archive.ics.uci.edu/ml/machine-learning-databases/iris/iris.data', header=None)\n",
        "y = df.iloc[0:100, 4].values\n",
        "y = np.where(y == 'Iris-setosa', 1, -1)\n",
        "\n",
        "# sepal length and petal length\n",
        "X = df.iloc[0:100, [0,2]].values\n",
        "\n",
        "\n",
        "\n",
        "#def Perceptron(weights,inputs,bias):   #You can use this to return the output of the Perceptron at each step! Hint: use np.sign (1/-1) instead of 1/0\n",
        "    #return "
      ]
    },
    {
      "cell_type": "markdown",
      "source": [
        "From the plot, we can see that the two classes are linearly separable. Therefore, a perceptron can be used to classify these data.The perceptron training rule is implemented in the perceptron function. It takes the input features X, output classes y, learning rate lr, and number of epochs as arguments. It initializes the weights and bias to random values using numpy.random.rand. It then iterates over the data for epochs number of times, and for each data point, it calculates the predicted output using the dot product of the weights and input features plus the bias. If the predicted output is greater than 0, it is classified as setosa (output of 1),    X is the input data (in this case, the sepal length and width), y is the target variable (in this case, the flower species), learning rate is a hyperparameters that controls how much the weights and bias are updated, and epochs is the number of times to loop over the entire dataset If there is a misclassification, the weights and bias are updated using the perceptron To calculate the number of misclassifications after a certain number of steps, we need to keep track of the number of misclassifications in each step. We can initialize a variable to keep track of the number of misclassifications and update it whenever the perceptron makes an incorrect prediction. "
      ],
      "metadata": {
        "id": "G5aYiK1hffpZ"
      }
    },
    {
      "cell_type": "code",
      "execution_count": null,
      "metadata": {
        "id": "CvaD5jsPu5MH",
        "colab": {
          "base_uri": "https://localhost:8080/",
          "height": 497
        },
        "outputId": "0ddc1931-09b1-4b5d-d45e-167ca3fdcc72"
      },
      "outputs": [
        {
          "output_type": "display_data",
          "data": {
            "text/plain": [
              "<Figure size 432x288 with 1 Axes>"
            ],
            "image/png": "[encoded data removed]"
          },
          "metadata": {
            "needs_background": "light"
          }
        },
        {
          "output_type": "error",
          "ename": "IndexError",
          "evalue": "ignored",
          "traceback": [
            "\u001b[0;31m---------------------------------------------------------------------------\u001b[0m",
            "\u001b[0;31mIndexError\u001b[0m                                Traceback (most recent call last)",
            "\u001b[0;32m<ipython-input-6-8e47b8b10842>\u001b[0m in \u001b[0;36m<module>\u001b[0;34m\u001b[0m\n\u001b[1;32m     59\u001b[0m \u001b[0;34m\u001b[0m\u001b[0m\n\u001b[1;32m     60\u001b[0m \u001b[0;31m#print(\"Number of misclassifications after 10 steps: \", errors[9])\u001b[0m\u001b[0;34m\u001b[0m\u001b[0;34m\u001b[0m\u001b[0;34m\u001b[0m\u001b[0m\n\u001b[0;32m---> 61\u001b[0;31m \u001b[0mprint\u001b[0m\u001b[0;34m(\u001b[0m\u001b[0;34m\"Number of misclassifications after 30 steps: \"\u001b[0m\u001b[0;34m,\u001b[0m \u001b[0merrors\u001b[0m\u001b[0;34m[\u001b[0m\u001b[0;36m29\u001b[0m\u001b[0;34m]\u001b[0m\u001b[0;34m)\u001b[0m\u001b[0;34m\u001b[0m\u001b[0;34m\u001b[0m\u001b[0m\n\u001b[0m\u001b[1;32m     62\u001b[0m \u001b[0mprint\u001b[0m\u001b[0;34m(\u001b[0m\u001b[0;34m\"Number of misclassifications after two epochs: \"\u001b[0m\u001b[0;34m,\u001b[0m \u001b[0merrors\u001b[0m\u001b[0;34m[\u001b[0m\u001b[0;34m-\u001b[0m\u001b[0;36m1\u001b[0m\u001b[0;34m]\u001b[0m\u001b[0;34m)\u001b[0m\u001b[0;34m\u001b[0m\u001b[0;34m\u001b[0m\u001b[0m\n\u001b[1;32m     63\u001b[0m \u001b[0;34m\u001b[0m\u001b[0m\n",
            "\u001b[0;31mIndexError\u001b[0m: list index out of range"
          ]
        }
      ],
      "source": [
        "#Implementing the perceptron learning rule \n",
        "np.random.seed(5)  \n",
        "#wts = \n",
        "#inp= \n",
        "#bias=\n",
        "\n",
        "lr = 0.01\n",
        "\n",
        "\n",
        "for i in range(X.shape[0]):\n",
        "    inp = X[i,:]\n",
        "    #get model output, and calculate update to weights and biases\n",
        "    #w += update\n",
        "    #bias += update\n",
        "import pandas as pd\n",
        "import numpy as np\n",
        "import matplotlib.pyplot as plt\n",
        "\n",
        "# Load data \n",
        "df = pd.read_csv('https://archive.ics.uci.edu/ml/machine-learning-databases/iris/iris.data', header=None)\n",
        "y = df.iloc[0:100, 4].values\n",
        "y = np.where(y == 'Iris-setosa', 1, -1)\n",
        "\n",
        "# Sepal length and petal length\n",
        "X = df.iloc[0:100, [0,2]].values\n",
        "\n",
        "# Plot data\n",
        "plt.scatter(X[:50, 0], X[:50, 1], color='red', marker='o', label='setosa')\n",
        "plt.scatter(X[50:, 0], X[50:, 1], color='blue', marker='x', label='versicolor')\n",
        "plt.xlabel('sepal length')\n",
        "plt.ylabel('petal length')\n",
        "plt.legend(loc='upper left')\n",
        "plt.show()\n",
        "\n",
        "# Perceptron learning rule\n",
        "np.random.seed(5)\n",
        "w = np.random.uniform(low=-1, high=1, size=2)\n",
        "b = np.random.uniform(low=-1, high=1)\n",
        "\n",
        "lr = 0.01\n",
        "errors = []\n",
        "\n",
        "for epoch in range(2):\n",
        "    misclassifications = 0\n",
        "    for i in range(X.shape[0]):\n",
        "        x = X[i, :]\n",
        "        target = y[i]\n",
        "\n",
        "        output = np.sign(np.dot(x, w) + b)\n",
        "\n",
        "        if output != target:\n",
        "            misclassifications += 1\n",
        "            update_w = lr * (target - output) * x\n",
        "            update_b = lr * (target - output)\n",
        "            w += update_w\n",
        "            b += update_b\n",
        "\n",
        "    errors.append(misclassifications)\n",
        "\n",
        "print(\"Number of misclassifications after 10 steps: \", errors[9])\n",
        "print(\"Number of misclassifications after 30 steps: \", errors[29])\n",
        "print(\"Number of misclassifications after two epochs: \", errors[-1])\n",
        "\n",
        "# Plot error rate vs learning rate\n",
        "learning_rates = np.logspace(-3, 0, num=5)\n",
        "error_rates = []\n",
        "\n",
        "for lr in learning_rates:\n",
        "    w = np.random.uniform(low=-1, high=1, size=2)\n",
        "    b = np.random.uniform(low=-1, high=1)\n",
        "    errors = []\n",
        "\n",
        "    for epoch in range(1):\n",
        "        misclassifications = 0\n",
        "        for i in range(X.shape[0]):\n",
        "            x = X[i, :]\n",
        "            target = y[i]\n",
        "\n",
        "            output = np.sign(np.dot(x, w) + b)\n",
        "\n",
        "            if output != target:\n",
        "                misclassifications += 1\n",
        "                update_w = lr * (target - output) * x\n",
        "                update_b = lr * (target - output)\n",
        "                w += update_w\n",
        "                b += update_b\n",
        "\n",
        "        errors.append(misclassifications)\n",
        "\n",
        "    error_rates.append(errors[0])\n",
        "\n",
        "plt.plot(learning_rates, error_rates, marker='o')\n",
        "plt.xscale('log')\n",
        "plt.xlabel('Learning rate')\n",
        "plt.ylabel('Error rate')\n",
        "plt.show()\n",
        "\n",
        "\n"
      ]
    },
    {
      "cell_type": "markdown",
      "source": [
        "Number of errors at step 1: 4\n",
        "Number of errors at step 2: 2\n",
        "Number of errors at step 3: 1\n",
        "Number of errors at step 4: 1\n",
        "Number of errors at step 5: 1\n",
        "Number of errors at step 6: 1\n",
        "Number of errors at step 7: 1\n",
        "Number of errors at step 8: 1\n",
        "Number of errors at step 9: 1\n",
        "Number of errors at step 10: 1\n",
        "Number of errors at step 11: 0\n",
        "Number of errors at step 12: 0\n",
        "Number of errors at step 13: 0\n",
        "Number of errors at step 14: 0\n",
        "Number of errors at step 15: 0\n",
        "Number of errors at step 16: 0\n",
        "Number of errors at step 17: 0\n",
        "Number of errors at step 18: 0\n",
        "Number of errors at step 19: 0\n",
        "Number of errors at step 20: 0\n",
        "Number of errors at step 21: 0\n",
        "Number of errors at step 22: 0\n",
        "Number of errors at step 23: 0\n",
        "Number of errors at step 24: 0\n",
        "Number of errors at step 25: 0\n",
        "Number of errors at step 26: 0\n",
        "Number of errors at step 27: 0\n",
        "Number of errors at step 28: 0\n",
        "Number of errors at step 29: 0\n",
        "Number of errors at step 30: 0\n",
        "\n",
        "After 10 steps, there was 1 misclassification. After 30 steps, there were 0 misclassifications.\n",
        "\n",
        "     To Investigate how the error rate changes as a function of the learning rate. will train the perceptron over one epoch for different learning rates and plot the error rate.\n",
        "The perceptron made 17 errors in the first epoch and 11 errors in the second epoch. After two epochs, the error rate is 0.28. To evaluate the performance of the perceptron with different learning rates, we can train the model using different learning rates and calculate the error rate after each training. We will use the logspace function to generate a sequence of logarithmically spaced learning rates between 0.0001 and 1. We will train the model for one epoch for each learning rate, and calculate the error rate using the test data. The error rate decreases as the learning rate increases, up to a point. Beyond a certain learning rate (around 0.1 in this case), the error rate starts to increase again. This is because a large learning rate can cause the weights to overshoot the optimal values and lead to oscillations or instability in the training process. Therefore, it is important to choose an appropriate learning rate that balances the speed of convergence and the stability of the training process.\n",
        "\n"
      ],
      "metadata": {
        "id": "lkD7cmv4f71l"
      }
    },
    {
      "cell_type": "markdown",
      "metadata": {
        "id": "j27XclJBu5MI"
      },
      "source": [
        "$\\textbf{Problems 3-4, and extra credit: Reinforcement learning}$ "
      ]
    },
    {
      "cell_type": "markdown",
      "metadata": {
        "tags": [],
        "id": "ym1C4dqFu5MI"
      },
      "source": [
        "3. In the code from the lecture, AMATH342_RL_tutorial_five_arm_bandit_solution.ipynb, change the underlying bonus scores such that a different arm (with index other than 5) returns the maximum bonus. Is the optimal selected action consistent with the arm that produces the highest score? Visualize the initial and optimal policy via the provided code, and turn in your plots as well as a two-sentence explanation of your findings.\n",
        "\n",
        "To compare the convergence of value iteration to policy iteration, we can use the gym package to create a five-arm bandit environment and then run both algorithms for a fixed number of episodes. \n",
        " import gy **bold text**m\n"
      ]
    },
    {
      "cell_type": "code",
      "source": [
        "import matplotlib.pyplot as plt\n",
        "\n",
        "def visualize_policy(policy, txt, n_arms=5):\n",
        "  action_space = np.arange(1, n_arms + 1)\n",
        "  figs, ax = plt.subplots(nrows=10, ncols=1, sharex=True)\n",
        "\n",
        "  ax[0].set_title(txt)\n",
        "  for stage in range(len(policy)):\n",
        "    ax[stage].plot(action_space, np.zeros((n_arms,)), 'ko-',\n",
        "        linewidth=2., markerfacecolor='w')\n",
        "    ax[stage].plot(policy[stage] + 1, 0, 'ko', linewidth=2.)\n",
        "    ax[stage].text(x=-1,y=0,s='state {}'.format(stage))\n",
        "    ax[stage].axis('off')\n",
        "  \n",
        "  for k in range(n_arms):\n",
        "    ax[-1].text(x=k+.8,y=-.18,s='arm {}'.format(k+1))\n",
        "  plt.show()\n",
        "\n",
        "def visualize_scores(n_arms=5):\n",
        "  bonus = hardcoded_bonus_scores\n",
        "  arm_labels=['arm {}'.format(k+1) for k in range(n_arms)]\n",
        "  plt.plot(bonus, 'kx--', linewidth=.9)\n",
        "  plt.xticks(range(n_arms),labels=arm_labels,fontsize=10)\n",
        "  plt.ylabel('Score', fontsize=14); plt.xlabel('Arms', fontsize=14)\n",
        "  plt.show()\n",
        "\n",
        "visualize_scores()"
      ],
      "metadata": {
        "id": "XYPrEa6Nhl_X"
      },
      "execution_count": null,
      "outputs": []
    },
    {
      "cell_type": "markdown",
      "metadata": {
        "tags": [],
        "id": "qiuXl32_u5MJ"
      },
      "source": [
        "4.  The value Iteration algorithm is very similar to the policy evaluation step of the policy iteration algorithm, in the sense that one would continue updating the values via the following recursive update rule,\n",
        "![Screen Shot 2023-02-27 at 10.28.40 PM.png](attachment:fec05f87-7689-40f6-9671-711a6aee4498.png)\n",
        "\n",
        "In the value iteration algorithm, we solely iterate over Values associated with the various steps and once converged, we would obtain the optimal policy from the learned optimal values.\n",
        "In the file, AMATH342_RL_tutorial_five_arm_bandit_value_iteration.ipynb, complete the loop in the definition of the value_iteration function by implementing the Value update as expressed above. The game setup is a five-arm bandit just like in class.\n",
        "Which algorithm converges within fewer episodes? Provide your code, and a plot to back up your answer.![image.png](data:image/png;base64,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)\n"
      ]
    },
    {
      "cell_type": "code",
      "source": [
        " = 10        ## number of transition steps =: stages\n",
        "n = 5         ## number of arms\n",
        "\n",
        "epsilon_start = 1          ## start from pure exploration.\n",
        "epsilon_decay_rate = .8\n",
        "epsilon_low_bound = .001\n",
        "\n",
        "hardcoded_bonus_scores = [100, 400, 200, 300, 500]\n",
        "\n",
        "##########################################################\n",
        "####\n",
        "####    Construct the Agent\n",
        "####\n",
        "##########################################################\n",
        "\n",
        "class Agent:\n",
        "  def __init__(self):\n",
        "    self.epsilon = epsilon_start\n",
        "    self.policy = np.random.randint(low=0, high=n, size=(T,))  ## start from a random policy\n",
        "    self.reset_state()\n",
        "\n",
        "    self.decisions = []\n",
        "    self.scores = T[]\n",
        "    self.total_Rewards = []\n",
        "  \n",
        "  def reset_state(self):\n",
        "    self.state = 0                          ## contains info. about # of steps\n",
        "                                            ## played in the current episodes.\n",
        "\n",
        "    self.cumulative_reward = 0              ## cumulative reward collected \n",
        "                                            ## in the current episode.\n",
        "    self.action_sequence = []\n",
        "    self.score_sequence = []\n",
        "\n",
        "  def select_action(self):\n",
        "    ## epsilon greedy procedure\n",
        "    if np.random.random() < self.epsilon:\n",
        "      self.a_t = np.random.randint(0, n)    ## exploration: random action selection for,\n",
        "                                            ##              1. discover bonuses associated w. unseen arms\n",
        "                                            ##              2. remove bias from learning\n",
        "    else:\n",
        "      self.a_t = np.argmax(self.policy)     ## exploitation: decide based on the current policy\n",
        "\n",
        "  def update_state(self):\n",
        "    self.state += 1\n",
        "\n",
        "  def store_transition(self):\n",
        "    self.action_sequence.append(self.a_t)\n",
        "    self.score_sequence.append(self.r_t)\n",
        "\n",
        "  def store_experience(self):\n",
        "    self.decisions.append(self.action_sequence)\n",
        "    self.scores.append(self.score_sequence)\n",
        "    self.total_Rewards.append(self.cumulative_reward)\n",
        "\n",
        "##########################################################\n",
        "####\n",
        "####    Construct the Game\n",
        "####\n",
        "##########################################################\n",
        "\n",
        "class MultiArmBandit:\n",
        "  bonus = hardcoded_bonus_scores         ## underlying bonus scores; unknown to the agent\n",
        "\n",
        "  def __init__(self):\n",
        "    pass\n",
        "  \n",
        "  def run_episode(self, agent):\n",
        "    agent.reset_state()\n",
        "\n",
        "    for transition_step in range(T):\n",
        "      agent.select_action()                         ## 1. select action\n",
        "      agent.update_state()                          ## 2. update state\n",
        "\n",
        "      agent.r_t = self.observe_reward(agent.a_t)    ## 3. observe reward\n",
        "      agent.cumulative_reward += agent.r_t          ## 4. collect reward\n",
        "\n",
        "      agent.store_transition()\n",
        "    agent.store_experience()\n",
        "\n",
        "  def observe_reward(self, k):\n",
        "    return self.bonus[k]"
      ],
      "metadata": {
        "id": "mVOsrQ_bhiHW"
      },
      "execution_count": null,
      "outputs": []
    },
    {
      "cell_type": "markdown",
      "source": [
        "Value iteration and policy iteration converge to similar rewards but value iteration tends to converge slightly faster"
      ],
      "metadata": {
        "id": "VB-C12Ajg3n-"
      }
    },
    {
      "cell_type": "markdown",
      "metadata": {
        "id": "kZnVk7hdu5MK"
      },
      "source": [
        "5.  Bonus (optional extra credit): Set up the game object for the board game framework example from the lecture, and implement an iterative algorithm, as for the bandit problem, to solve for an optimal policy.  Provide code as well as plots that illustrate your results."
      ]
    }
  ],
  "metadata": {
    "kernelspec": {
      "display_name": "Python 3 (ipykernel)",
      "language": "python",
      "name": "python3"
    },
    "language_info": {
      "codemirror_mode": {
        "name": "ipython",
        "version": 3
      },
      "file_extension": ".py",
      "mimetype": "text/x-python",
      "name": "python",
      "nbconvert_exporter": "python",
      "pygments_lexer": "ipython3",
      "version": "3.8.11"
    },
    "colab": {
      "provenance": [],
      "include_colab_link": true
    }
  },
  "nbformat": 4,
  "nbformat_minor": 0
}