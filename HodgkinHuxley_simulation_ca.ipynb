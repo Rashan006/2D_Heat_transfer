{
  "cells": [
    {
      "cell_type": "markdown",
      "metadata": {
        "id": "view-in-github",
        "colab_type": "text"
      },
      "source": [
        "<a href=\"https://colab.research.google.com/github/Rashan006/2D_Heat_transfer/blob/master/HodgkinHuxley_simulation_ca.ipynb\" target=\"_parent\"><img src=\"https://colab.research.google.com/assets/colab-badge.svg\" alt=\"Open In Colab\"/></a>"
      ]
    },
    {
      "cell_type": "markdown",
      "metadata": {
        "id": "jfVhgGICoVKp"
      },
      "source": [
        "# math 342 homework 5 \n",
        "\n",
        "\n",
        "\n",
        "# HogkinHuxley_model for calcium mediated potassium currents"
      ]
    },
    {
      "cell_type": "code",
      "execution_count": null,
      "metadata": {
        "id": "u0KwnT4coVK1"
      },
      "outputs": [],
      "source": [
        "import matplotlib.pyplot as plt\n",
        "import numpy as np\n",
        "from scipy.integrate import odeint"
      ]
    },
    {
      "cell_type": "markdown",
      "metadata": {
        "id": "9OO2jzNmoVK5"
      },
      "source": [
        "Set random seed (for reproducibility)"
      ]
    },
    {
      "cell_type": "code",
      "execution_count": null,
      "metadata": {
        "id": "_fI6GeY-oVK6"
      },
      "outputs": [],
      "source": [
        "np.random.seed(1000)"
      ]
    },
    {
      "cell_type": "markdown",
      "metadata": {
        "id": "QGDEvWISoVK7"
      },
      "source": [
        "Start and end time (in milliseconds)"
      ]
    },
    {
      "cell_type": "code",
      "execution_count": null,
      "metadata": {
        "id": "gWjUe86NoVK7"
      },
      "outputs": [],
      "source": [
        "tmin = 0.0\n",
        "tmax = 50.0"
      ]
    },
    {
      "cell_type": "markdown",
      "metadata": {
        "id": "_XGjINHyoVK8"
      },
      "source": [
        "Average channels conductance per unit area (mS/cm^2)"
      ]
    },
    {
      "cell_type": "code",
      "execution_count": null,
      "metadata": {
        "id": "I9MtcMItoVK-"
      },
      "outputs": [],
      "source": [
        "gK = 36.0\n",
        "gNa = 120.0\n",
        "gL = 0.3"
      ]
    },
    {
      "cell_type": "markdown",
      "metadata": {
        "id": "4MUaclHaoVLA"
      },
      "source": [
        "Membrane capacitance per unit area (uF/cm^2)"
      ]
    },
    {
      "cell_type": "code",
      "execution_count": null,
      "metadata": {
        "id": "UTeMqDBioVLB"
      },
      "outputs": [],
      "source": [
        "Cm = 1.0"
      ]
    },
    {
      "cell_type": "markdown",
      "metadata": {
        "id": "3JFsXJcqoVLC"
      },
      "source": [
        "Potential of channels (mV)"
      ]
    },
    {
      "cell_type": "code",
      "execution_count": null,
      "metadata": {
        "id": "HHTj_lEPoVLD"
      },
      "outputs": [],
      "source": [
        "VK = -12.0\n",
        "VNa = 115.0\n",
        "Vl = 10.613"
      ]
    },
    {
      "cell_type": "markdown",
      "metadata": {
        "id": "W8wN4xBloVLE"
      },
      "source": [
        "Time values"
      ]
    },
    {
      "cell_type": "code",
      "execution_count": null,
      "metadata": {
        "id": "nc_apsijoVLF"
      },
      "outputs": [],
      "source": [
        "T = np.linspace(tmin, tmax, 10000)"
      ]
    },
    {
      "cell_type": "markdown",
      "metadata": {
        "id": "XSiN7yWpoVLH"
      },
      "source": [
        "Potassium ion-channel rate functions"
      ]
    },
    {
      "cell_type": "code",
      "execution_count": null,
      "metadata": {
        "id": "OJ_2rbaGoVLI"
      },
      "outputs": [],
      "source": [
        "def alpha_n(Vm):\n",
        "    return (0.01 * (10.0 - Vm)) / (np.exp(1.0 - (0.1 * Vm)) - 1.0)\n",
        "\n",
        "def beta_n(Vm):\n",
        "    return 0.125 * np.exp(-Vm / 80.0)"
      ]
    },
    {
      "cell_type": "markdown",
      "metadata": {
        "id": "tuDHqN4YoVLJ"
      },
      "source": [
        "Calcium ion-channel rate functions"
      ]
    },
    {
      "cell_type": "code",
      "execution_count": null,
      "metadata": {
        "id": "KjydmBFGoVLJ"
      },
      "outputs": [],
      "source": [
        "def alpha_m(Vm):\n",
        "    return (0.1 * (25.0 - Vm)) / (np.exp(2.5 - (0.1 * Vm)) - 1.0)\n",
        "\n",
        "def beta_m(Vm):\n",
        "    return 4.0 * np.exp(-Vm / 18.0)\n",
        "\n",
        "def alpha_h(Vm):\n",
        "    return 0.07 * np.exp(-Vm / 20.0)\n",
        "\n",
        "def beta_h(Vm):\n",
        "    return 1.0 / (np.exp(3.0 - (0.1 * Vm)) + 1.0)"
      ]
    },
    {
      "cell_type": "markdown",
      "metadata": {
        "id": "icI7DS6koVLK"
      },
      "source": [
        "n, m, and h steady-state values"
      ]
    },
    {
      "cell_type": "code",
      "execution_count": null,
      "metadata": {
        "id": "mXJnZxUuoVLL"
      },
      "outputs": [],
      "source": [
        "def n_inf(Vm=0.0):\n",
        "    return alpha_n(Vm) / (alpha_n(Vm) + beta_n(Vm))\n",
        "\n",
        "def m_inf(Vm=0.0):\n",
        "    return alpha_m(Vm) / (alpha_m(Vm) + beta_m(Vm))\n",
        "\n",
        "def h_inf(Vm=0.0):\n",
        "    return alpha_h(Vm) / (alpha_h(Vm) + beta_h(Vm))"
      ]
    },
    {
      "cell_type": "markdown",
      "metadata": {
        "id": "f72SFV4OoVLM"
      },
      "source": [
        "Input stimulus function"
      ]
    },
    {
      "cell_type": "code",
      "execution_count": null,
      "metadata": {
        "id": "6VUtAZ52oVLM"
      },
      "outputs": [],
      "source": [
        "def Id(t):\n",
        "    if 0.0 < t < 1.0:\n",
        "        return 150.0\n",
        "    elif 10.0 < t < 11.0:\n",
        "        return 50.0\n",
        "    return 0.0"
      ]
    },
    {
      "cell_type": "markdown",
      "metadata": {
        "id": "vmr3YysNoVLN"
      },
      "source": [
        "Compute derivatives"
      ]
    },
    {
      "cell_type": "code",
      "execution_count": null,
      "metadata": {
        "id": "5mHlLrfmoVLP"
      },
      "outputs": [],
      "source": [
        "def compute_derivatives(y, t0):\n",
        "    dy = np.zeros((4,))\n",
        "    \n",
        "    Vm = y[0]\n",
        "    n = y[1]\n",
        "    m = y[2]\n",
        "    h = y[3]\n",
        "    \n",
        "    # dVm/dt\n",
        "    GK = (gK / Cm) * np.power(n, 4.0)\n",
        "    GNa = (gNa / Cm) * np.power(m, 3.0) * h\n",
        "    GL = gL / Cm\n",
        "    \n",
        "    dy[0] = (Id(t0) / Cm) - (GK * (Vm - VK)) - (GNa * (Vm - VNa)) - (GL * (Vm - Vl))\n",
        "    \n",
        "    # dn/dt\n",
        "    dy[1] = (alpha_n(Vm) * (1.0 - n)) - (beta_n(Vm) * n)\n",
        "    \n",
        "    # dm/dt\n",
        "    dy[2] = (alpha_m(Vm) * (1.0 - m)) - (beta_m(Vm) * m)\n",
        "    \n",
        "    # dh/dt\n",
        "    dy[3] = (alpha_h(Vm) * (1.0 - h)) - (beta_h(Vm) * h)\n",
        "    \n",
        "    return dy"
      ]
    },
    {
      "cell_type": "markdown",
      "metadata": {
        "id": "Pg4e0YR6oVLR"
      },
      "source": [
        "State (Vm, n, m, h)"
      ]
    },
    {
      "cell_type": "code",
      "execution_count": null,
      "metadata": {
        "id": "9XS47Q0poVLS"
      },
      "outputs": [],
      "source": [
        "Y = np.array([0.0, n_inf(), m_inf(), h_inf()])"
      ]
    },
    {
      "cell_type": "markdown",
      "metadata": {
        "id": "bCH3Oct5oVLT"
      },
      "source": [
        "Solve ODE system"
      ]
    },
    {
      "cell_type": "code",
      "execution_count": null,
      "metadata": {
        "id": "rATDR1Z5oVLU"
      },
      "outputs": [],
      "source": [
        "# Vy = (Vm[t0:tmax], n[t0:tmax], m[t0:tmax], h[t0:tmax])\n",
        "Vy = odeint(compute_derivatives, Y, T)"
      ]
    },
    {
      "cell_type": "markdown",
      "metadata": {
        "id": "gJVaafXUoVLV"
      },
      "source": [
        "# Experiment "
      ]
    },
    {
      "cell_type": "markdown",
      "metadata": {
        "id": "3ai-kZb3oVLW"
      },
      "source": [
        "Input stimulus"
      ]
    },
    {
      "cell_type": "code",
      "execution_count": 4,
      "metadata": {
        "colab": {
          "base_uri": "https://localhost:8080/",
          "height": 235
        },
        "id": "wNNzQnqDoVLX",
        "outputId": "ee09ed9f-0316-472b-8b39-e8e819ef5fa2"
      },
      "outputs": [
        {
          "output_type": "error",
          "ename": "NameError",
          "evalue": "ignored",
          "traceback": [
            "\u001b[0;31m---------------------------------------------------------------------------\u001b[0m",
            "\u001b[0;31mNameError\u001b[0m                                 Traceback (most recent call last)",
            "\u001b[0;32m<ipython-input-4-4dc7a3462e73>\u001b[0m in \u001b[0;36m<module>\u001b[0;34m\u001b[0m\n\u001b[0;32m----> 1\u001b[0;31m \u001b[0mIdv\u001b[0m \u001b[0;34m=\u001b[0m \u001b[0;34m[\u001b[0m\u001b[0mId\u001b[0m\u001b[0;34m(\u001b[0m\u001b[0mt\u001b[0m\u001b[0;34m)\u001b[0m \u001b[0;32mfor\u001b[0m \u001b[0mt\u001b[0m \u001b[0;32min\u001b[0m \u001b[0mT\u001b[0m\u001b[0;34m]\u001b[0m\u001b[0;34m\u001b[0m\u001b[0;34m\u001b[0m\u001b[0m\n\u001b[0m\u001b[1;32m      2\u001b[0m \u001b[0;34m\u001b[0m\u001b[0m\n\u001b[1;32m      3\u001b[0m \u001b[0mfig\u001b[0m\u001b[0;34m,\u001b[0m \u001b[0max\u001b[0m \u001b[0;34m=\u001b[0m \u001b[0mplt\u001b[0m\u001b[0;34m.\u001b[0m\u001b[0msubplots\u001b[0m\u001b[0;34m(\u001b[0m\u001b[0mfigsize\u001b[0m\u001b[0;34m=\u001b[0m\u001b[0;34m(\u001b[0m\u001b[0;36m12\u001b[0m\u001b[0;34m,\u001b[0m \u001b[0;36m7\u001b[0m\u001b[0;34m)\u001b[0m\u001b[0;34m)\u001b[0m\u001b[0;34m\u001b[0m\u001b[0;34m\u001b[0m\u001b[0m\n\u001b[1;32m      4\u001b[0m \u001b[0max\u001b[0m\u001b[0;34m.\u001b[0m\u001b[0mplot\u001b[0m\u001b[0;34m(\u001b[0m\u001b[0mT\u001b[0m\u001b[0;34m,\u001b[0m \u001b[0mIdv\u001b[0m\u001b[0;34m)\u001b[0m\u001b[0;34m\u001b[0m\u001b[0;34m\u001b[0m\u001b[0m\n\u001b[1;32m      5\u001b[0m \u001b[0max\u001b[0m\u001b[0;34m.\u001b[0m\u001b[0mset_xlabel\u001b[0m\u001b[0;34m(\u001b[0m\u001b[0;34m'Time (ms)'\u001b[0m\u001b[0;34m)\u001b[0m\u001b[0;34m\u001b[0m\u001b[0;34m\u001b[0m\u001b[0m\n",
            "\u001b[0;31mNameError\u001b[0m: name 'T' is not defined"
          ]
        }
      ],
      "source": [
        "Idv = [Id(t) for t in T]\n",
        "\n",
        "fig, ax = plt.subplots(figsize=(12, 7))\n",
        "ax.plot(T, Idv)\n",
        "ax.set_xlabel('Time (ms)')\n",
        "ax.set_ylabel(r'Current density (uA/$cm^2$)')\n",
        "ax.set_title('Stimulus  (Current density)')\n",
        "plt.grid()"
      ]
    },
    {
      "cell_type": "markdown",
      "metadata": {
        "id": "V3rdFVynoVLa"
      },
      "source": [
        "Neuron potential"
      ]
    },
    {
      "cell_type": "code",
      "execution_count": 5,
      "metadata": {
        "colab": {
          "base_uri": "https://localhost:8080/",
          "height": 235
        },
        "id": "tqqtnCV5oVLb",
        "outputId": "ad5b8783-8a38-436d-c54d-9a1ec712fa50"
      },
      "outputs": [
        {
          "output_type": "error",
          "ename": "NameError",
          "evalue": "ignored",
          "traceback": [
            "\u001b[0;31m---------------------------------------------------------------------------\u001b[0m",
            "\u001b[0;31mNameError\u001b[0m                                 Traceback (most recent call last)",
            "\u001b[0;32m<ipython-input-5-9558c54c5ea5>\u001b[0m in \u001b[0;36m<module>\u001b[0;34m\u001b[0m\n\u001b[0;32m----> 1\u001b[0;31m \u001b[0mfig\u001b[0m\u001b[0;34m,\u001b[0m \u001b[0max\u001b[0m \u001b[0;34m=\u001b[0m \u001b[0mplt\u001b[0m\u001b[0;34m.\u001b[0m\u001b[0msubplots\u001b[0m\u001b[0;34m(\u001b[0m\u001b[0mfigsize\u001b[0m\u001b[0;34m=\u001b[0m\u001b[0;34m(\u001b[0m\u001b[0;36m12\u001b[0m\u001b[0;34m,\u001b[0m \u001b[0;36m7\u001b[0m\u001b[0;34m)\u001b[0m\u001b[0;34m)\u001b[0m\u001b[0;34m\u001b[0m\u001b[0;34m\u001b[0m\u001b[0m\n\u001b[0m\u001b[1;32m      2\u001b[0m \u001b[0max\u001b[0m\u001b[0;34m.\u001b[0m\u001b[0mplot\u001b[0m\u001b[0;34m(\u001b[0m\u001b[0mT\u001b[0m\u001b[0;34m,\u001b[0m \u001b[0mVy\u001b[0m\u001b[0;34m[\u001b[0m\u001b[0;34m:\u001b[0m\u001b[0;34m,\u001b[0m \u001b[0;36m0\u001b[0m\u001b[0;34m]\u001b[0m\u001b[0;34m)\u001b[0m\u001b[0;34m\u001b[0m\u001b[0;34m\u001b[0m\u001b[0m\n\u001b[1;32m      3\u001b[0m \u001b[0max\u001b[0m\u001b[0;34m.\u001b[0m\u001b[0mset_xlabel\u001b[0m\u001b[0;34m(\u001b[0m\u001b[0;34m'Time (ms)'\u001b[0m\u001b[0;34m)\u001b[0m\u001b[0;34m\u001b[0m\u001b[0;34m\u001b[0m\u001b[0m\n\u001b[1;32m      4\u001b[0m \u001b[0max\u001b[0m\u001b[0;34m.\u001b[0m\u001b[0mset_ylabel\u001b[0m\u001b[0;34m(\u001b[0m\u001b[0;34m'Vm (mV)'\u001b[0m\u001b[0;34m)\u001b[0m\u001b[0;34m\u001b[0m\u001b[0;34m\u001b[0m\u001b[0m\n\u001b[1;32m      5\u001b[0m \u001b[0max\u001b[0m\u001b[0;34m.\u001b[0m\u001b[0mset_title\u001b[0m\u001b[0;34m(\u001b[0m\u001b[0;34m'Neuron potential with two spikes'\u001b[0m\u001b[0;34m)\u001b[0m\u001b[0;34m\u001b[0m\u001b[0;34m\u001b[0m\u001b[0m\n",
            "\u001b[0;31mNameError\u001b[0m: name 'plt' is not defined"
          ]
        }
      ],
      "source": [
        "fig, ax = plt.subplots(figsize=(12, 7))\n",
        "ax.plot(T, Vy[:, 0])\n",
        "ax.set_xlabel('Time (ms)')\n",
        "ax.set_ylabel('Vm (mV)')\n",
        "ax.set_title('Neuron potential with two spikes')\n",
        "plt.grid()"
      ]
    },
    {
      "cell_type": "markdown",
      "metadata": {
        "id": "Hc2zeKxKoVLc"
      },
      "source": [
        "Trajectories with limit cycles"
      ]
    },
    {
      "cell_type": "code",
      "execution_count": 6,
      "metadata": {
        "colab": {
          "base_uri": "https://localhost:8080/",
          "height": 235
        },
        "id": "R81d2j4joVLg",
        "outputId": "59d3e019-6508-4e54-b9b0-ca9279d87a95"
      },
      "outputs": [
        {
          "output_type": "error",
          "ename": "NameError",
          "evalue": "ignored",
          "traceback": [
            "\u001b[0;31m---------------------------------------------------------------------------\u001b[0m",
            "\u001b[0;31mNameError\u001b[0m                                 Traceback (most recent call last)",
            "\u001b[0;32m<ipython-input-6-858c2533407e>\u001b[0m in \u001b[0;36m<module>\u001b[0;34m\u001b[0m\n\u001b[0;32m----> 1\u001b[0;31m \u001b[0mfig\u001b[0m\u001b[0;34m,\u001b[0m \u001b[0max\u001b[0m \u001b[0;34m=\u001b[0m \u001b[0mplt\u001b[0m\u001b[0;34m.\u001b[0m\u001b[0msubplots\u001b[0m\u001b[0;34m(\u001b[0m\u001b[0mfigsize\u001b[0m\u001b[0;34m=\u001b[0m\u001b[0;34m(\u001b[0m\u001b[0;36m10\u001b[0m\u001b[0;34m,\u001b[0m \u001b[0;36m10\u001b[0m\u001b[0;34m)\u001b[0m\u001b[0;34m)\u001b[0m\u001b[0;34m\u001b[0m\u001b[0;34m\u001b[0m\u001b[0m\n\u001b[0m\u001b[1;32m      2\u001b[0m \u001b[0max\u001b[0m\u001b[0;34m.\u001b[0m\u001b[0mplot\u001b[0m\u001b[0;34m(\u001b[0m\u001b[0mVy\u001b[0m\u001b[0;34m[\u001b[0m\u001b[0;34m:\u001b[0m\u001b[0;34m,\u001b[0m \u001b[0;36m0\u001b[0m\u001b[0;34m]\u001b[0m\u001b[0;34m,\u001b[0m \u001b[0mVy\u001b[0m\u001b[0;34m[\u001b[0m\u001b[0;34m:\u001b[0m\u001b[0;34m,\u001b[0m \u001b[0;36m1\u001b[0m\u001b[0;34m]\u001b[0m\u001b[0;34m,\u001b[0m \u001b[0mlabel\u001b[0m\u001b[0;34m=\u001b[0m\u001b[0;34m'Vm - n'\u001b[0m\u001b[0;34m)\u001b[0m\u001b[0;34m\u001b[0m\u001b[0;34m\u001b[0m\u001b[0m\n\u001b[1;32m      3\u001b[0m \u001b[0max\u001b[0m\u001b[0;34m.\u001b[0m\u001b[0mplot\u001b[0m\u001b[0;34m(\u001b[0m\u001b[0mVy\u001b[0m\u001b[0;34m[\u001b[0m\u001b[0;34m:\u001b[0m\u001b[0;34m,\u001b[0m \u001b[0;36m0\u001b[0m\u001b[0;34m]\u001b[0m\u001b[0;34m,\u001b[0m \u001b[0mVy\u001b[0m\u001b[0;34m[\u001b[0m\u001b[0;34m:\u001b[0m\u001b[0;34m,\u001b[0m \u001b[0;36m2\u001b[0m\u001b[0;34m]\u001b[0m\u001b[0;34m,\u001b[0m \u001b[0mlabel\u001b[0m\u001b[0;34m=\u001b[0m\u001b[0;34m'Vm - m'\u001b[0m\u001b[0;34m)\u001b[0m\u001b[0;34m\u001b[0m\u001b[0;34m\u001b[0m\u001b[0m\n\u001b[1;32m      4\u001b[0m \u001b[0max\u001b[0m\u001b[0;34m.\u001b[0m\u001b[0mset_title\u001b[0m\u001b[0;34m(\u001b[0m\u001b[0;34m'Limit cycles'\u001b[0m\u001b[0;34m)\u001b[0m\u001b[0;34m\u001b[0m\u001b[0;34m\u001b[0m\u001b[0m\n\u001b[1;32m      5\u001b[0m \u001b[0max\u001b[0m\u001b[0;34m.\u001b[0m\u001b[0mlegend\u001b[0m\u001b[0;34m(\u001b[0m\u001b[0;34m)\u001b[0m\u001b[0;34m\u001b[0m\u001b[0;34m\u001b[0m\u001b[0m\n",
            "\u001b[0;31mNameError\u001b[0m: name 'plt' is not defined"
          ]
        }
      ],
      "source": [
        "fig, ax = plt.subplots(figsize=(10, 10))\n",
        "ax.plot(Vy[:, 0], Vy[:, 1], label='Vm - n')\n",
        "ax.plot(Vy[:, 0], Vy[:, 2], label='Vm - m')\n",
        "ax.set_title('Limit cycles')\n",
        "ax.legend()\n",
        "plt.grid()"
      ]
    }
  ],
  "metadata": {
    "interpreter": {
      "hash": "499d684f497a86f648d7633ff0df87494c91fb7579fceb5e60d32df83479110f"
    },
    "kernelspec": {
      "display_name": "Python 3.9.6 64-bit",
      "name": "python3"
    },
    "language_info": {
      "codemirror_mode": {
        "name": "ipython",
        "version": 3
      },
      "file_extension": ".py",
      "mimetype": "text/x-python",
      "name": "python",
      "nbconvert_exporter": "python",
      "pygments_lexer": "ipython3",
      "version": "3.9.6"
    },
    "orig_nbformat": 4,
    "colab": {
      "provenance": [],
      "include_colab_link": true
    }
  },
  "nbformat": 4,
  "nbformat_minor": 0
}